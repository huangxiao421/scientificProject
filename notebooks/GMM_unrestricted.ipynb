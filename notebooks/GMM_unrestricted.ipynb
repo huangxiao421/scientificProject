{
 "cells": [
  {
   "cell_type": "code",
   "execution_count": 1,
   "metadata": {
    "ExecuteTime": {
     "end_time": "2021-04-14T15:00:07.393393Z",
     "start_time": "2021-04-14T15:00:07.378882Z"
    }
   },
   "outputs": [],
   "source": [
    "import numpy as np\n",
    "import pandas as pd\n",
    "from statsmodels.sandbox.regression.gmm import GMM"
   ]
  },
  {
   "cell_type": "code",
   "execution_count": 2,
   "metadata": {
    "ExecuteTime": {
     "end_time": "2021-04-14T15:00:08.525346Z",
     "start_time": "2021-04-14T15:00:08.492505Z"
    }
   },
   "outputs": [],
   "source": [
    "data = pd.read_excel('C:/Users/XiaoHuang/Desktop/Assignment2/Data.xlsx') #reading data "
   ]
  },
  {
   "cell_type": "code",
   "execution_count": 3,
   "metadata": {
    "ExecuteTime": {
     "end_time": "2021-04-14T15:00:09.701137Z",
     "start_time": "2021-04-14T15:00:09.686175Z"
    }
   },
   "outputs": [],
   "source": [
    "r = np.array(data['r_t']) #generate monthly rate"
   ]
  },
  {
   "cell_type": "code",
   "execution_count": 4,
   "metadata": {
    "ExecuteTime": {
     "end_time": "2021-04-14T15:01:14.884115Z",
     "start_time": "2021-04-14T15:01:14.868124Z"
    }
   },
   "outputs": [
    {
     "name": "stdout",
     "output_type": "stream",
     "text": [
      "[0.03411 0.03259 0.03264 0.03523 0.03427 0.03574 0.03427 0.03884 0.03849\n",
      " 0.03788 0.03859 0.03732 0.03783 0.03768 0.03783 0.03986 0.03849 0.03798\n",
      " 0.04266 0.04531 0.04459 0.04418 0.04602 0.04459 0.0452  0.04546 0.04724\n",
      " 0.05157 0.04775 0.04266 0.0447  0.04546 0.04485 0.04062 0.03453 0.03249\n",
      " 0.03707 0.03808 0.03859 0.04154 0.04149 0.0419  0.04343 0.04807 0.04673\n",
      " 0.04852 0.05488 0.05386 0.05285 0.05259 0.04938 0.05162 0.05411 0.04836\n",
      " 0.06099 0.05999 0.05641 0.05361 0.06125 0.05845 0.06481 0.06915 0.0666\n",
      " 0.06945 0.06685 0.06447 0.06787 0.07728 0.06303 0.06415 0.06512 0.06309\n",
      " 0.0593  0.05895 0.06109 0.05819 0.05274 0.04449 0.04439 0.04062 0.03229\n",
      " 0.03406 0.03676 0.0387  0.05019 0.0506  0.04408 0.04531 0.03992 0.03828\n",
      " 0.03351 0.03127 0.03147 0.03483 0.03249 0.03401 0.03625 0.03513 0.04307\n",
      " 0.04429 0.04541 0.04917 0.04867 0.05571 0.05579 0.05875 0.05987 0.06527\n",
      " 0.07436 0.08312 0.08581 0.07335 0.06928 0.07447 0.07364 0.0755  0.07377\n",
      " 0.085   0.08771 0.07834 0.07681 0.07715 0.09215 0.0617  0.06672 0.07498\n",
      " 0.06537 0.0554  0.04756 0.05274 0.05214 0.04856 0.05651 0.0603  0.05968\n",
      " 0.06292 0.05316 0.05184 0.05172 0.04521 0.04654 0.04756 0.04694 0.0506\n",
      " 0.05296 0.05081 0.04764 0.05082 0.04756 0.04347 0.04257 0.04551 0.04429\n",
      " 0.04541 0.04388 0.04835 0.04949 0.05346 0.05378 0.05815 0.05824 0.05694\n",
      " 0.05754 0.05997 0.06088 0.06497 0.06049 0.0651  0.0656  0.06517 0.07601\n",
      " 0.08019 0.08536 0.09063 0.08428 0.09522 0.09542 0.09642 0.09569 0.09687\n",
      " 0.0899  0.09098 0.10054 0.10279 0.11717 0.10904 0.09344 0.11722 0.13616\n",
      " 0.15051 0.09238 0.07182 0.06201 0.07499 0.09297 0.10795 0.11367 0.14652\n",
      " 0.12528 0.13919 0.14032 0.13017 0.13819 0.1615  0.14411 0.14957 0.14968\n",
      " 0.13997 0.12718 0.10244 0.09636 0.11929 0.11826 0.13421 0.12236 0.11437\n",
      " 0.11779 0.08919 0.06211 0.07019 0.07703 0.07628 0.0806  0.08037 0.07425\n",
      " 0.08572 0.08111 0.08077 0.08695 0.08919 0.09146 0.08755 0.08446 0.08502\n",
      " 0.08643 0.08884 0.0889  0.09553 0.09263 0.09359 0.09358 0.0965  0.10719\n",
      " 0.10433 0.08604 0.07407 0.07598 0.07652 0.07714 0.08091 0.07353 0.0703\n",
      " 0.06631 0.07061 0.0707  0.07068 0.07173 0.0657  0.05905 0.06784 0.06947\n",
      " 0.06272 0.05898 0.06152 0.05885 0.05632 0.05122 0.05111 0.05122 0.0496\n",
      " 0.05113 0.05581 0.05367 0.05202 0.04858 0.05387 0.04927 0.05601 0.05661\n",
      " 0.065   0.04023 0.03513 0.03687 0.05285 0.05172 0.05734 0.05754 0.05864\n",
      " 0.0654  0.06376 0.07204 0.0709  0.06741 0.06826 0.06611 0.07883 0.07536\n",
      " 0.08775 0.08561 0.08594 0.08254 0.07843 0.07785 0.07754 0.07689 0.0707 ] <class 'numpy.ndarray'> 306\n"
     ]
    }
   ],
   "source": [
    "print(r,type(r),len(r)) #check data"
   ]
  },
  {
   "cell_type": "code",
   "execution_count": 5,
   "metadata": {
    "ExecuteTime": {
     "end_time": "2021-04-14T15:00:17.815628Z",
     "start_time": "2021-04-14T15:00:17.802123Z"
    },
    "scrolled": false
   },
   "outputs": [],
   "source": [
    "diff_r = np.diff(r) #generate dr"
   ]
  },
  {
   "cell_type": "code",
   "execution_count": 6,
   "metadata": {
    "ExecuteTime": {
     "end_time": "2021-04-14T15:00:19.084737Z",
     "start_time": "2021-04-14T15:00:19.062708Z"
    },
    "scrolled": true
   },
   "outputs": [
    {
     "name": "stdout",
     "output_type": "stream",
     "text": [
      "[-1.520e-03  5.000e-05  2.590e-03 -9.600e-04  1.470e-03 -1.470e-03\n",
      "  4.570e-03 -3.500e-04 -6.100e-04  7.100e-04 -1.270e-03  5.100e-04\n",
      " -1.500e-04  1.500e-04  2.030e-03 -1.370e-03 -5.100e-04  4.680e-03\n",
      "  2.650e-03 -7.200e-04 -4.100e-04  1.840e-03 -1.430e-03  6.100e-04\n",
      "  2.600e-04  1.780e-03  4.330e-03 -3.820e-03 -5.090e-03  2.040e-03\n",
      "  7.600e-04 -6.100e-04 -4.230e-03 -6.090e-03 -2.040e-03  4.580e-03\n",
      "  1.010e-03  5.100e-04  2.950e-03 -5.000e-05  4.100e-04  1.530e-03\n",
      "  4.640e-03 -1.340e-03  1.790e-03  6.360e-03 -1.020e-03 -1.010e-03\n",
      " -2.600e-04 -3.210e-03  2.240e-03  2.490e-03 -5.750e-03  1.263e-02\n",
      " -1.000e-03 -3.580e-03 -2.800e-03  7.640e-03 -2.800e-03  6.360e-03\n",
      "  4.340e-03 -2.550e-03  2.850e-03 -2.600e-03 -2.380e-03  3.400e-03\n",
      "  9.410e-03 -1.425e-02  1.120e-03  9.700e-04 -2.030e-03 -3.790e-03\n",
      " -3.500e-04  2.140e-03 -2.900e-03 -5.450e-03 -8.250e-03 -1.000e-04\n",
      " -3.770e-03 -8.330e-03  1.770e-03  2.700e-03  1.940e-03  1.149e-02\n",
      "  4.100e-04 -6.520e-03  1.230e-03 -5.390e-03 -1.640e-03 -4.770e-03\n",
      " -2.240e-03  2.000e-04  3.360e-03 -2.340e-03  1.520e-03  2.240e-03\n",
      " -1.120e-03  7.940e-03  1.220e-03  1.120e-03  3.760e-03 -5.000e-04\n",
      "  7.040e-03  8.000e-05  2.960e-03  1.120e-03  5.400e-03  9.090e-03\n",
      "  8.760e-03  2.690e-03 -1.246e-02 -4.070e-03  5.190e-03 -8.300e-04\n",
      "  1.860e-03 -1.730e-03  1.123e-02  2.710e-03 -9.370e-03 -1.530e-03\n",
      "  3.400e-04  1.500e-02 -3.045e-02  5.020e-03  8.260e-03 -9.610e-03\n",
      " -9.970e-03 -7.840e-03  5.180e-03 -6.000e-04 -3.580e-03  7.950e-03\n",
      "  3.790e-03 -6.200e-04  3.240e-03 -9.760e-03 -1.320e-03 -1.200e-04\n",
      " -6.510e-03  1.330e-03  1.020e-03 -6.200e-04  3.660e-03  2.360e-03\n",
      " -2.150e-03 -3.170e-03  3.180e-03 -3.260e-03 -4.090e-03 -9.000e-04\n",
      "  2.940e-03 -1.220e-03  1.120e-03 -1.530e-03  4.470e-03  1.140e-03\n",
      "  3.970e-03  3.200e-04  4.370e-03  9.000e-05 -1.300e-03  6.000e-04\n",
      "  2.430e-03  9.100e-04  4.090e-03 -4.480e-03  4.610e-03  5.000e-04\n",
      " -4.300e-04  1.084e-02  4.180e-03  5.170e-03  5.270e-03 -6.350e-03\n",
      "  1.094e-02  2.000e-04  1.000e-03 -7.300e-04  1.180e-03 -6.970e-03\n",
      "  1.080e-03  9.560e-03  2.250e-03  1.438e-02 -8.130e-03 -1.560e-02\n",
      "  2.378e-02  1.894e-02  1.435e-02 -5.813e-02 -2.056e-02 -9.810e-03\n",
      "  1.298e-02  1.798e-02  1.498e-02  5.720e-03  3.285e-02 -2.124e-02\n",
      "  1.391e-02  1.130e-03 -1.015e-02  8.020e-03  2.331e-02 -1.739e-02\n",
      "  5.460e-03  1.100e-04 -9.710e-03 -1.279e-02 -2.474e-02 -6.080e-03\n",
      "  2.293e-02 -1.030e-03  1.595e-02 -1.185e-02 -7.990e-03  3.420e-03\n",
      " -2.860e-02 -2.708e-02  8.080e-03  6.840e-03 -7.500e-04  4.320e-03\n",
      " -2.300e-04 -6.120e-03  1.147e-02 -4.610e-03 -3.400e-04  6.180e-03\n",
      "  2.240e-03  2.270e-03 -3.910e-03 -3.090e-03  5.600e-04  1.410e-03\n",
      "  2.410e-03  6.000e-05  6.630e-03 -2.900e-03  9.600e-04 -1.000e-05\n",
      "  2.920e-03  1.069e-02 -2.860e-03 -1.829e-02 -1.197e-02  1.910e-03\n",
      "  5.400e-04  6.200e-04  3.770e-03 -7.380e-03 -3.230e-03 -3.990e-03\n",
      "  4.300e-03  9.000e-05 -2.000e-05  1.050e-03 -6.030e-03 -6.650e-03\n",
      "  8.790e-03  1.630e-03 -6.750e-03 -3.740e-03  2.540e-03 -2.670e-03\n",
      " -2.530e-03 -5.100e-03 -1.100e-04  1.100e-04 -1.620e-03  1.530e-03\n",
      "  4.680e-03 -2.140e-03 -1.650e-03 -3.440e-03  5.290e-03 -4.600e-03\n",
      "  6.740e-03  6.000e-04  8.390e-03 -2.477e-02 -5.100e-03  1.740e-03\n",
      "  1.598e-02 -1.130e-03  5.620e-03  2.000e-04  1.100e-03  6.760e-03\n",
      " -1.640e-03  8.280e-03 -1.140e-03 -3.490e-03  8.500e-04 -2.150e-03\n",
      "  1.272e-02 -3.470e-03  1.239e-02 -2.140e-03  3.300e-04 -3.400e-03\n",
      " -4.110e-03 -5.800e-04 -3.100e-04 -6.500e-04 -6.190e-03] <class 'numpy.ndarray'> 305\n"
     ]
    }
   ],
   "source": [
    "print(diff_r,type(diff_r),len(diff_r))"
   ]
  },
  {
   "cell_type": "code",
   "execution_count": 7,
   "metadata": {
    "ExecuteTime": {
     "end_time": "2021-04-14T15:01:11.791368Z",
     "start_time": "2021-04-14T15:01:11.777771Z"
    }
   },
   "outputs": [],
   "source": [
    "r = np.delete(r, len(r)-1, axis=0)"
   ]
  },
  {
   "cell_type": "markdown",
   "metadata": {},
   "source": [
    "**fitting unrestricted** "
   ]
  },
  {
   "cell_type": "code",
   "execution_count": 63,
   "metadata": {
    "ExecuteTime": {
     "end_time": "2021-04-14T15:07:18.223160Z",
     "start_time": "2021-04-14T15:07:18.202407Z"
    }
   },
   "outputs": [],
   "source": [
    "# 4  moment conditions for unrestricted \n",
    "class gmm(GMM):\n",
    "    def momcond(self, params):\n",
    "        alpha, beta, sigma2, gama = params\n",
    "        endog = self.endog\n",
    "        exog = self.exog.squeeze()\n",
    "\n",
    "        mom_cond1 = endog - (alpha + beta * exog)/12\n",
    "        mom_cond2 = (endog - (alpha + beta * exog)) * r/12\n",
    "        mom_cond3 = (endog - alpha - beta * exog) ** 2 - sigma2 * (exog ** (2 * gama)) / 12\n",
    "        mom_cond4 = ((endog - alpha - beta * exog) ** 2 - sigma2 * (exog ** (2 * gama)) / 12) * r\n",
    "        e = np.column_stack((mom_cond1, mom_cond2, mom_cond3, mom_cond4))\n",
    "        return e"
   ]
  },
  {
   "cell_type": "code",
   "execution_count": 22,
   "metadata": {
    "ExecuteTime": {
     "end_time": "2021-04-14T15:07:20.075006Z",
     "start_time": "2021-04-14T15:07:19.943675Z"
    },
    "scrolled": true
   },
   "outputs": [
    {
     "name": "stdout",
     "output_type": "stream",
     "text": [
      "Optimization terminated successfully.\n",
      "         Current function value: 0.000000\n",
      "         Iterations: 6\n",
      "         Function evaluations: 9\n",
      "         Gradient evaluations: 9\n",
      "Optimization terminated successfully.\n",
      "         Current function value: 0.000000\n",
      "         Iterations: 66\n",
      "         Function evaluations: 79\n",
      "         Gradient evaluations: 79\n",
      "Optimization terminated successfully.\n",
      "         Current function value: 0.000000\n",
      "         Iterations: 1\n",
      "         Function evaluations: 3\n",
      "         Gradient evaluations: 3\n",
      "Optimization terminated successfully.\n",
      "         Current function value: 0.000000\n",
      "         Iterations: 0\n",
      "         Function evaluations: 1\n",
      "         Gradient evaluations: 1\n",
      "                                 gmm Results                                  \n",
      "==============================================================================\n",
      "Dep. Variable:                      y   Hansen J:                    5.396e-09\n",
      "Model:                            gmm   Prob (Hansen J):                   nan\n",
      "Method:                           GMM                                         \n",
      "Date:                Thu, 15 Apr 2021                                         \n",
      "Time:                        15:06:56                                         \n",
      "No. Observations:                 305                                         \n",
      "==============================================================================\n",
      "                 coef    std err          z      P>|z|      [0.025      0.975]\n",
      "------------------------------------------------------------------------------\n",
      "alpha          0.0132      0.037      0.357      0.721      -0.060       0.086\n",
      "beta          -0.1774      0.474     -0.374      0.708      -1.106       0.752\n",
      "sigma2         0.4572      2.833      0.161      0.872      -5.095       6.009\n",
      "gama           1.1866      1.523      0.779      0.436      -1.799       4.172\n",
      "==============================================================================\n"
     ]
    }
   ],
   "source": [
    "#fitting \n",
    "param0 = np.array([1.0, 1.0, 1.0, 1.0])\n",
    "res = gmm(endog=diff_r, exog=r, instrument=r, k_moms=4, k_params=4).fit(param0)\n",
    "res.model.exog_names[:] = 'alpha beta sigma2 gama'.split()\n",
    "print(res.summary())"
   ]
  },
  {
   "cell_type": "markdown",
   "metadata": {},
   "source": [
    "**fitting CIR SR with gama as 0.5**"
   ]
  },
  {
   "cell_type": "code",
   "execution_count": 16,
   "metadata": {
    "ExecuteTime": {
     "end_time": "2021-04-14T15:13:31.289421Z",
     "start_time": "2021-04-14T15:13:31.276426Z"
    }
   },
   "outputs": [],
   "source": [
    "# 3 conditions for estimating CIR SR.\n",
    "class gmm(GMM):\n",
    "    def momcond(self, params):\n",
    "        sigma2 = params\n",
    "        alpha,beta = 0,0 \n",
    "        gama = 1\n",
    "        endog = self.endog\n",
    "        exog = self.exog.squeeze()\n",
    "\n",
    "        mom_cond1 = endog - (alpha + beta * exog)/12\n",
    "        mom_cond2 = (endog - (alpha + beta * exog)) * r/12\n",
    "        mom_cond3 = (endog - alpha - beta * exog) ** 2 - sigma2 * (exog ** (2 * 0.5)) / 12\n",
    "        mom_cond4 = ((endog - alpha - beta * exog) ** 2 - sigma2 * (exog ** (2 * 0.5)) / 12) * r\n",
    "        e = np.column_stack((mom_cond1, mom_cond2, mom_cond3, mom_cond4))\n",
    "        return e"
   ]
  },
  {
   "cell_type": "code",
   "execution_count": 17,
   "metadata": {
    "ExecuteTime": {
     "end_time": "2021-04-14T15:13:32.921456Z",
     "start_time": "2021-04-14T15:13:32.789074Z"
    },
    "scrolled": true
   },
   "outputs": [
    {
     "name": "stdout",
     "output_type": "stream",
     "text": [
      "Optimization terminated successfully.\n",
      "         Current function value: 0.000000\n",
      "         Iterations: 2\n",
      "         Function evaluations: 9\n",
      "         Gradient evaluations: 9\n",
      "Optimization terminated successfully.\n",
      "         Current function value: 0.024864\n",
      "         Iterations: 1\n",
      "         Function evaluations: 3\n",
      "         Gradient evaluations: 3\n",
      "Optimization terminated successfully.\n",
      "         Current function value: 0.024457\n",
      "         Iterations: 1\n",
      "         Function evaluations: 3\n",
      "         Gradient evaluations: 3\n",
      "Optimization terminated successfully.\n",
      "         Current function value: 0.024459\n",
      "         Iterations: 1\n",
      "         Function evaluations: 3\n",
      "         Gradient evaluations: 3\n"
     ]
    },
    {
     "ename": "LinAlgError",
     "evalue": "0-dimensional array given. Array must be at least two-dimensional",
     "output_type": "error",
     "traceback": [
      "\u001b[1;31m---------------------------------------------------------------------------\u001b[0m",
      "\u001b[1;31mLinAlgError\u001b[0m                               Traceback (most recent call last)",
      "\u001b[1;32m<ipython-input-17-af1f3516d27e>\u001b[0m in \u001b[0;36m<module>\u001b[1;34m\u001b[0m\n\u001b[0;32m      1\u001b[0m \u001b[1;31m# fitting\u001b[0m\u001b[1;33m\u001b[0m\u001b[1;33m\u001b[0m\u001b[1;33m\u001b[0m\u001b[0m\n\u001b[0;32m      2\u001b[0m \u001b[0mparam0\u001b[0m \u001b[1;33m=\u001b[0m \u001b[0mnp\u001b[0m\u001b[1;33m.\u001b[0m\u001b[0marray\u001b[0m\u001b[1;33m(\u001b[0m\u001b[1;33m[\u001b[0m\u001b[1;36m1.0\u001b[0m\u001b[1;33m]\u001b[0m\u001b[1;33m)\u001b[0m\u001b[1;33m\u001b[0m\u001b[1;33m\u001b[0m\u001b[0m\n\u001b[1;32m----> 3\u001b[1;33m \u001b[0mres\u001b[0m \u001b[1;33m=\u001b[0m \u001b[0mgmm\u001b[0m\u001b[1;33m(\u001b[0m\u001b[0mendog\u001b[0m\u001b[1;33m=\u001b[0m\u001b[0mdiff_r\u001b[0m\u001b[1;33m,\u001b[0m \u001b[0mexog\u001b[0m\u001b[1;33m=\u001b[0m\u001b[0mr\u001b[0m\u001b[1;33m,\u001b[0m \u001b[0minstrument\u001b[0m\u001b[1;33m=\u001b[0m\u001b[0mr\u001b[0m\u001b[1;33m,\u001b[0m \u001b[0mk_moms\u001b[0m\u001b[1;33m=\u001b[0m\u001b[1;36m4\u001b[0m\u001b[1;33m,\u001b[0m \u001b[0mk_params\u001b[0m\u001b[1;33m=\u001b[0m\u001b[1;36m1\u001b[0m\u001b[1;33m)\u001b[0m\u001b[1;33m.\u001b[0m\u001b[0mfit\u001b[0m\u001b[1;33m(\u001b[0m\u001b[0mparam0\u001b[0m\u001b[1;33m)\u001b[0m\u001b[1;33m\u001b[0m\u001b[1;33m\u001b[0m\u001b[0m\n\u001b[0m\u001b[0;32m      4\u001b[0m \u001b[0mres\u001b[0m\u001b[1;33m.\u001b[0m\u001b[0mmodel\u001b[0m\u001b[1;33m.\u001b[0m\u001b[0mexog_names\u001b[0m\u001b[1;33m[\u001b[0m\u001b[1;33m:\u001b[0m\u001b[1;33m]\u001b[0m \u001b[1;33m=\u001b[0m \u001b[1;34m'sigma2'\u001b[0m\u001b[1;33m.\u001b[0m\u001b[0msplit\u001b[0m\u001b[1;33m(\u001b[0m\u001b[1;33m)\u001b[0m\u001b[1;33m\u001b[0m\u001b[1;33m\u001b[0m\u001b[0m\n\u001b[0;32m      5\u001b[0m \u001b[0mprint\u001b[0m\u001b[1;33m(\u001b[0m\u001b[0mres\u001b[0m\u001b[1;33m.\u001b[0m\u001b[0msummary\u001b[0m\u001b[1;33m(\u001b[0m\u001b[1;33m)\u001b[0m\u001b[1;33m)\u001b[0m\u001b[1;33m\u001b[0m\u001b[1;33m\u001b[0m\u001b[0m\n",
      "\u001b[1;32mC:\\ProgramData\\Anaconda3\\lib\\site-packages\\statsmodels\\sandbox\\regression\\gmm.py\u001b[0m in \u001b[0;36mfit\u001b[1;34m(self, start_params, maxiter, inv_weights, weights_method, wargs, has_optimal_weights, optim_method, optim_args)\u001b[0m\n\u001b[0;32m    701\u001b[0m                                         \u001b[0mwargs\u001b[0m \u001b[1;33m=\u001b[0m \u001b[0mwargs\u001b[0m\u001b[1;33m,\u001b[0m\u001b[1;33m\u001b[0m\u001b[1;33m\u001b[0m\u001b[0m\n\u001b[0;32m    702\u001b[0m                                         \u001b[0moptions_other\u001b[0m \u001b[1;33m=\u001b[0m \u001b[0moptions_other\u001b[0m\u001b[1;33m,\u001b[0m\u001b[1;33m\u001b[0m\u001b[1;33m\u001b[0m\u001b[0m\n\u001b[1;32m--> 703\u001b[1;33m                                         optim_args = optim_args)\n\u001b[0m\u001b[0;32m    704\u001b[0m \u001b[1;33m\u001b[0m\u001b[0m\n\u001b[0;32m    705\u001b[0m         \u001b[0mself\u001b[0m\u001b[1;33m.\u001b[0m\u001b[0mresults\u001b[0m \u001b[1;33m=\u001b[0m \u001b[0mresults\u001b[0m \u001b[1;31m# FIXME: remove, still keeping it temporarily\u001b[0m\u001b[1;33m\u001b[0m\u001b[1;33m\u001b[0m\u001b[0m\n",
      "\u001b[1;32mC:\\ProgramData\\Anaconda3\\lib\\site-packages\\statsmodels\\sandbox\\regression\\gmm.py\u001b[0m in \u001b[0;36m__init__\u001b[1;34m(self, *args, **kwds)\u001b[0m\n\u001b[0;32m   1130\u001b[0m         \u001b[0mself\u001b[0m\u001b[1;33m.\u001b[0m\u001b[0mdf_resid\u001b[0m \u001b[1;33m=\u001b[0m \u001b[0mnp\u001b[0m\u001b[1;33m.\u001b[0m\u001b[0minf\u001b[0m\u001b[1;33m\u001b[0m\u001b[1;33m\u001b[0m\u001b[0m\n\u001b[0;32m   1131\u001b[0m \u001b[1;33m\u001b[0m\u001b[0m\n\u001b[1;32m-> 1132\u001b[1;33m         \u001b[0mself\u001b[0m\u001b[1;33m.\u001b[0m\u001b[0mcov_params_default\u001b[0m \u001b[1;33m=\u001b[0m \u001b[0mself\u001b[0m\u001b[1;33m.\u001b[0m\u001b[0m_cov_params\u001b[0m\u001b[1;33m(\u001b[0m\u001b[1;33m)\u001b[0m\u001b[1;33m\u001b[0m\u001b[1;33m\u001b[0m\u001b[0m\n\u001b[0m\u001b[0;32m   1133\u001b[0m \u001b[1;33m\u001b[0m\u001b[0m\n\u001b[0;32m   1134\u001b[0m     \u001b[1;33m@\u001b[0m\u001b[0mcache_readonly\u001b[0m\u001b[1;33m\u001b[0m\u001b[1;33m\u001b[0m\u001b[0m\n",
      "\u001b[1;32mC:\\ProgramData\\Anaconda3\\lib\\site-packages\\statsmodels\\sandbox\\regression\\gmm.py\u001b[0m in \u001b[0;36m_cov_params\u001b[1;34m(self, **kwds)\u001b[0m\n\u001b[0;32m   1163\u001b[0m         \u001b[0mgradmoms\u001b[0m \u001b[1;33m=\u001b[0m \u001b[0mself\u001b[0m\u001b[1;33m.\u001b[0m\u001b[0mmodel\u001b[0m\u001b[1;33m.\u001b[0m\u001b[0mgradient_momcond\u001b[0m\u001b[1;33m(\u001b[0m\u001b[0mself\u001b[0m\u001b[1;33m.\u001b[0m\u001b[0mparams\u001b[0m\u001b[1;33m)\u001b[0m\u001b[1;33m\u001b[0m\u001b[1;33m\u001b[0m\u001b[0m\n\u001b[0;32m   1164\u001b[0m         \u001b[0mmoms\u001b[0m \u001b[1;33m=\u001b[0m \u001b[0mself\u001b[0m\u001b[1;33m.\u001b[0m\u001b[0mmodel\u001b[0m\u001b[1;33m.\u001b[0m\u001b[0mmomcond\u001b[0m\u001b[1;33m(\u001b[0m\u001b[0mself\u001b[0m\u001b[1;33m.\u001b[0m\u001b[0mparams\u001b[0m\u001b[1;33m)\u001b[0m\u001b[1;33m\u001b[0m\u001b[1;33m\u001b[0m\u001b[0m\n\u001b[1;32m-> 1165\u001b[1;33m         \u001b[0mcovparams\u001b[0m \u001b[1;33m=\u001b[0m \u001b[0mself\u001b[0m\u001b[1;33m.\u001b[0m\u001b[0mcalc_cov_params\u001b[0m\u001b[1;33m(\u001b[0m\u001b[0mmoms\u001b[0m\u001b[1;33m,\u001b[0m \u001b[0mgradmoms\u001b[0m\u001b[1;33m,\u001b[0m \u001b[1;33m**\u001b[0m\u001b[0mkwds\u001b[0m\u001b[1;33m)\u001b[0m\u001b[1;33m\u001b[0m\u001b[1;33m\u001b[0m\u001b[0m\n\u001b[0m\u001b[0;32m   1166\u001b[0m \u001b[1;33m\u001b[0m\u001b[0m\n\u001b[0;32m   1167\u001b[0m         \u001b[1;32mreturn\u001b[0m \u001b[0mcovparams\u001b[0m\u001b[1;33m\u001b[0m\u001b[1;33m\u001b[0m\u001b[0m\n",
      "\u001b[1;32mC:\\ProgramData\\Anaconda3\\lib\\site-packages\\statsmodels\\sandbox\\regression\\gmm.py\u001b[0m in \u001b[0;36mcalc_cov_params\u001b[1;34m(self, moms, gradmoms, weights, use_weights, has_optimal_weights, weights_method, wargs)\u001b[0m\n\u001b[0;32m   1211\u001b[0m             \u001b[1;31m# TOD0 make has_optimal_weights depend on convergence or iter >2\u001b[0m\u001b[1;33m\u001b[0m\u001b[1;33m\u001b[0m\u001b[1;33m\u001b[0m\u001b[0m\n\u001b[0;32m   1212\u001b[0m             cov = np.linalg.inv(np.dot(gradmoms.T,\n\u001b[1;32m-> 1213\u001b[1;33m                                     np.dot(np.linalg.inv(omegahat), gradmoms)))\n\u001b[0m\u001b[0;32m   1214\u001b[0m         \u001b[1;32melse\u001b[0m\u001b[1;33m:\u001b[0m\u001b[1;33m\u001b[0m\u001b[1;33m\u001b[0m\u001b[0m\n\u001b[0;32m   1215\u001b[0m             \u001b[0mgw\u001b[0m \u001b[1;33m=\u001b[0m \u001b[0mnp\u001b[0m\u001b[1;33m.\u001b[0m\u001b[0mdot\u001b[0m\u001b[1;33m(\u001b[0m\u001b[0mgradmoms\u001b[0m\u001b[1;33m.\u001b[0m\u001b[0mT\u001b[0m\u001b[1;33m,\u001b[0m \u001b[0mweights\u001b[0m\u001b[1;33m)\u001b[0m\u001b[1;33m\u001b[0m\u001b[1;33m\u001b[0m\u001b[0m\n",
      "\u001b[1;32m<__array_function__ internals>\u001b[0m in \u001b[0;36minv\u001b[1;34m(*args, **kwargs)\u001b[0m\n",
      "\u001b[1;32mC:\\ProgramData\\Anaconda3\\lib\\site-packages\\numpy\\linalg\\linalg.py\u001b[0m in \u001b[0;36minv\u001b[1;34m(a)\u001b[0m\n\u001b[0;32m    538\u001b[0m     \"\"\"\n\u001b[0;32m    539\u001b[0m     \u001b[0ma\u001b[0m\u001b[1;33m,\u001b[0m \u001b[0mwrap\u001b[0m \u001b[1;33m=\u001b[0m \u001b[0m_makearray\u001b[0m\u001b[1;33m(\u001b[0m\u001b[0ma\u001b[0m\u001b[1;33m)\u001b[0m\u001b[1;33m\u001b[0m\u001b[1;33m\u001b[0m\u001b[0m\n\u001b[1;32m--> 540\u001b[1;33m     \u001b[0m_assert_stacked_2d\u001b[0m\u001b[1;33m(\u001b[0m\u001b[0ma\u001b[0m\u001b[1;33m)\u001b[0m\u001b[1;33m\u001b[0m\u001b[1;33m\u001b[0m\u001b[0m\n\u001b[0m\u001b[0;32m    541\u001b[0m     \u001b[0m_assert_stacked_square\u001b[0m\u001b[1;33m(\u001b[0m\u001b[0ma\u001b[0m\u001b[1;33m)\u001b[0m\u001b[1;33m\u001b[0m\u001b[1;33m\u001b[0m\u001b[0m\n\u001b[0;32m    542\u001b[0m     \u001b[0mt\u001b[0m\u001b[1;33m,\u001b[0m \u001b[0mresult_t\u001b[0m \u001b[1;33m=\u001b[0m \u001b[0m_commonType\u001b[0m\u001b[1;33m(\u001b[0m\u001b[0ma\u001b[0m\u001b[1;33m)\u001b[0m\u001b[1;33m\u001b[0m\u001b[1;33m\u001b[0m\u001b[0m\n",
      "\u001b[1;32mC:\\ProgramData\\Anaconda3\\lib\\site-packages\\numpy\\linalg\\linalg.py\u001b[0m in \u001b[0;36m_assert_stacked_2d\u001b[1;34m(*arrays)\u001b[0m\n\u001b[0;32m    196\u001b[0m         \u001b[1;32mif\u001b[0m \u001b[0ma\u001b[0m\u001b[1;33m.\u001b[0m\u001b[0mndim\u001b[0m \u001b[1;33m<\u001b[0m \u001b[1;36m2\u001b[0m\u001b[1;33m:\u001b[0m\u001b[1;33m\u001b[0m\u001b[1;33m\u001b[0m\u001b[0m\n\u001b[0;32m    197\u001b[0m             raise LinAlgError('%d-dimensional array given. Array must be '\n\u001b[1;32m--> 198\u001b[1;33m                     'at least two-dimensional' % a.ndim)\n\u001b[0m\u001b[0;32m    199\u001b[0m \u001b[1;33m\u001b[0m\u001b[0m\n\u001b[0;32m    200\u001b[0m \u001b[1;32mdef\u001b[0m \u001b[0m_assert_stacked_square\u001b[0m\u001b[1;33m(\u001b[0m\u001b[1;33m*\u001b[0m\u001b[0marrays\u001b[0m\u001b[1;33m)\u001b[0m\u001b[1;33m:\u001b[0m\u001b[1;33m\u001b[0m\u001b[1;33m\u001b[0m\u001b[0m\n",
      "\u001b[1;31mLinAlgError\u001b[0m: 0-dimensional array given. Array must be at least two-dimensional"
     ]
    }
   ],
   "source": [
    "# fitting \n",
    "param0 = np.array([1.0])\n",
    "res = gmm(endog=diff_r, exog=r, instrument=r, k_moms=4, k_params=1).fit(param0)\n",
    "res.model.exog_names[:] = 'sigma2'.split()\n",
    "print(res.summary())"
   ]
  },
  {
   "cell_type": "code",
   "execution_count": 64,
   "metadata": {},
   "outputs": [],
   "source": [
    "dic = {'Unrestricted': [0.01, 0.01, 0.01, 0.1],\n",
    "       'Merton': [0.01, np.nan, 0.01, np.nan],\n",
    "       'Vasicek': [0.01, 0.01, 0.01, np.nan],\n",
    "       'CIR SR': [0.01, 0.01, 0.01, np.nan],\n",
    "       'Dothan': [np.nan, np.nan, 0.01, np.nan],\n",
    "       'GBM':    [np.nan, 0.01, 0.01, np.nan],\n",
    "       'BS':     [0.01, 0.01, 0.01, np.nan],\n",
    "       'CIR VR': [np.nan, np.nan, 1, np.nan],\n",
    "       'CEV':    [np.nan, 0.01, 0.1, 1],\n",
    "       }\n"
   ]
  },
  {
   "cell_type": "code",
   "execution_count": 65,
   "metadata": {},
   "outputs": [],
   "source": [
    "df= pd.DataFrame([dic])"
   ]
  },
  {
   "cell_type": "code",
   "execution_count": 67,
   "metadata": {
    "scrolled": true
   },
   "outputs": [],
   "source": [
    "new_df = df.T"
   ]
  },
  {
   "cell_type": "code",
   "execution_count": 68,
   "metadata": {},
   "outputs": [
    {
     "ename": "ValueError",
     "evalue": "setting an array element with a sequence.",
     "output_type": "error",
     "traceback": [
      "\u001b[1;31m---------------------------------------------------------------------------\u001b[0m",
      "\u001b[1;31mTypeError\u001b[0m                                 Traceback (most recent call last)",
      "\u001b[1;31mTypeError\u001b[0m: float() argument must be a string or a number, not 'list'",
      "\nThe above exception was the direct cause of the following exception:\n",
      "\u001b[1;31mValueError\u001b[0m                                Traceback (most recent call last)",
      "\u001b[1;32m<ipython-input-68-6870fb91cb86>\u001b[0m in \u001b[0;36m<module>\u001b[1;34m\u001b[0m\n\u001b[0;32m      4\u001b[0m     Gmm = gmm(model=model, endog=diff_r, exog=r, instrument=None,\n\u001b[0;32m      5\u001b[0m               k_moms=4, k_params=len(init_param))\n\u001b[1;32m----> 6\u001b[1;33m     \u001b[0mres\u001b[0m \u001b[1;33m=\u001b[0m \u001b[0mGmm\u001b[0m\u001b[1;33m.\u001b[0m\u001b[0mfit\u001b[0m\u001b[1;33m(\u001b[0m\u001b[0minit_param\u001b[0m\u001b[1;33m,\u001b[0m \u001b[0mmaxiter\u001b[0m\u001b[1;33m=\u001b[0m\u001b[1;36m2\u001b[0m\u001b[1;33m)\u001b[0m\u001b[1;33m\u001b[0m\u001b[1;33m\u001b[0m\u001b[0m\n\u001b[0m",
      "\u001b[1;32mC:\\ProgramData\\Anaconda3\\lib\\site-packages\\statsmodels\\sandbox\\regression\\gmm.py\u001b[0m in \u001b[0;36mfit\u001b[1;34m(self, start_params, maxiter, inv_weights, weights_method, wargs, has_optimal_weights, optim_method, optim_args)\u001b[0m\n\u001b[0;32m    674\u001b[0m                                            \u001b[0mwargs\u001b[0m\u001b[1;33m=\u001b[0m\u001b[0mwargs\u001b[0m\u001b[1;33m,\u001b[0m\u001b[1;33m\u001b[0m\u001b[1;33m\u001b[0m\u001b[0m\n\u001b[0;32m    675\u001b[0m                                            \u001b[0moptim_method\u001b[0m\u001b[1;33m=\u001b[0m\u001b[0moptim_method\u001b[0m\u001b[1;33m,\u001b[0m\u001b[1;33m\u001b[0m\u001b[1;33m\u001b[0m\u001b[0m\n\u001b[1;32m--> 676\u001b[1;33m                                            optim_args=optim_args)\n\u001b[0m\u001b[0;32m    677\u001b[0m             \u001b[1;31m# TODO weights returned by fititer is inv_weights - not true anymore\u001b[0m\u001b[1;33m\u001b[0m\u001b[1;33m\u001b[0m\u001b[1;33m\u001b[0m\u001b[0m\n\u001b[0;32m    678\u001b[0m             \u001b[1;31m# weights_ currently not necessary and used anymore\u001b[0m\u001b[1;33m\u001b[0m\u001b[1;33m\u001b[0m\u001b[1;33m\u001b[0m\u001b[0m\n",
      "\u001b[1;32mC:\\ProgramData\\Anaconda3\\lib\\site-packages\\statsmodels\\sandbox\\regression\\gmm.py\u001b[0m in \u001b[0;36mfititer\u001b[1;34m(self, start, maxiter, start_invweights, weights_method, wargs, optim_method, optim_args)\u001b[0m\n\u001b[0;32m    915\u001b[0m \u001b[1;31m##                            weightsoptimal=False)\u001b[0m\u001b[1;33m\u001b[0m\u001b[1;33m\u001b[0m\u001b[1;33m\u001b[0m\u001b[0m\n\u001b[0;32m    916\u001b[0m             resgmm = self.fitgmm(start, weights=w, optim_method=optim_method,\n\u001b[1;32m--> 917\u001b[1;33m                                  optim_args=optim_args)\n\u001b[0m\u001b[0;32m    918\u001b[0m \u001b[1;33m\u001b[0m\u001b[0m\n\u001b[0;32m    919\u001b[0m             \u001b[0mmoms\u001b[0m \u001b[1;33m=\u001b[0m \u001b[0mmomcond\u001b[0m\u001b[1;33m(\u001b[0m\u001b[0mresgmm\u001b[0m\u001b[1;33m)\u001b[0m\u001b[1;33m\u001b[0m\u001b[1;33m\u001b[0m\u001b[0m\n",
      "\u001b[1;32mC:\\ProgramData\\Anaconda3\\lib\\site-packages\\statsmodels\\sandbox\\regression\\gmm.py\u001b[0m in \u001b[0;36mfitgmm\u001b[1;34m(self, start, weights, optim_method, optim_args)\u001b[0m\n\u001b[0;32m    767\u001b[0m         \u001b[1;31m#TODO: add other optimization options and results\u001b[0m\u001b[1;33m\u001b[0m\u001b[1;33m\u001b[0m\u001b[1;33m\u001b[0m\u001b[0m\n\u001b[0;32m    768\u001b[0m         return optimizer(self.gmmobjective, start, args=(weights,),\n\u001b[1;32m--> 769\u001b[1;33m                          **optim_args)\n\u001b[0m\u001b[0;32m    770\u001b[0m \u001b[1;33m\u001b[0m\u001b[0m\n\u001b[0;32m    771\u001b[0m \u001b[1;33m\u001b[0m\u001b[0m\n",
      "\u001b[1;32mC:\\ProgramData\\Anaconda3\\lib\\site-packages\\scipy\\optimize\\optimize.py\u001b[0m in \u001b[0;36mfmin_bfgs\u001b[1;34m(f, x0, fprime, args, gtol, norm, epsilon, maxiter, full_output, disp, retall, callback)\u001b[0m\n\u001b[0;32m   1041\u001b[0m             'return_all': retall}\n\u001b[0;32m   1042\u001b[0m \u001b[1;33m\u001b[0m\u001b[0m\n\u001b[1;32m-> 1043\u001b[1;33m     \u001b[0mres\u001b[0m \u001b[1;33m=\u001b[0m \u001b[0m_minimize_bfgs\u001b[0m\u001b[1;33m(\u001b[0m\u001b[0mf\u001b[0m\u001b[1;33m,\u001b[0m \u001b[0mx0\u001b[0m\u001b[1;33m,\u001b[0m \u001b[0margs\u001b[0m\u001b[1;33m,\u001b[0m \u001b[0mfprime\u001b[0m\u001b[1;33m,\u001b[0m \u001b[0mcallback\u001b[0m\u001b[1;33m=\u001b[0m\u001b[0mcallback\u001b[0m\u001b[1;33m,\u001b[0m \u001b[1;33m**\u001b[0m\u001b[0mopts\u001b[0m\u001b[1;33m)\u001b[0m\u001b[1;33m\u001b[0m\u001b[1;33m\u001b[0m\u001b[0m\n\u001b[0m\u001b[0;32m   1044\u001b[0m \u001b[1;33m\u001b[0m\u001b[0m\n\u001b[0;32m   1045\u001b[0m     \u001b[1;32mif\u001b[0m \u001b[0mfull_output\u001b[0m\u001b[1;33m:\u001b[0m\u001b[1;33m\u001b[0m\u001b[1;33m\u001b[0m\u001b[0m\n",
      "\u001b[1;32mC:\\ProgramData\\Anaconda3\\lib\\site-packages\\scipy\\optimize\\optimize.py\u001b[0m in \u001b[0;36m_minimize_bfgs\u001b[1;34m(fun, x0, args, jac, callback, gtol, norm, eps, maxiter, disp, return_all, finite_diff_rel_step, **unknown_options)\u001b[0m\n\u001b[0;32m   1100\u001b[0m \u001b[1;33m\u001b[0m\u001b[0m\n\u001b[0;32m   1101\u001b[0m     sf = _prepare_scalar_function(fun, x0, jac, args=args, epsilon=eps,\n\u001b[1;32m-> 1102\u001b[1;33m                                   finite_diff_rel_step=finite_diff_rel_step)\n\u001b[0m\u001b[0;32m   1103\u001b[0m \u001b[1;33m\u001b[0m\u001b[0m\n\u001b[0;32m   1104\u001b[0m     \u001b[0mf\u001b[0m \u001b[1;33m=\u001b[0m \u001b[0msf\u001b[0m\u001b[1;33m.\u001b[0m\u001b[0mfun\u001b[0m\u001b[1;33m\u001b[0m\u001b[1;33m\u001b[0m\u001b[0m\n",
      "\u001b[1;32mC:\\ProgramData\\Anaconda3\\lib\\site-packages\\scipy\\optimize\\optimize.py\u001b[0m in \u001b[0;36m_prepare_scalar_function\u001b[1;34m(fun, x0, jac, args, bounds, epsilon, finite_diff_rel_step, hess)\u001b[0m\n\u001b[0;32m    260\u001b[0m     \u001b[1;31m# calculation reduces overall function evaluations.\u001b[0m\u001b[1;33m\u001b[0m\u001b[1;33m\u001b[0m\u001b[1;33m\u001b[0m\u001b[0m\n\u001b[0;32m    261\u001b[0m     sf = ScalarFunction(fun, x0, args, grad, hess,\n\u001b[1;32m--> 262\u001b[1;33m                         finite_diff_rel_step, bounds, epsilon=epsilon)\n\u001b[0m\u001b[0;32m    263\u001b[0m \u001b[1;33m\u001b[0m\u001b[0m\n\u001b[0;32m    264\u001b[0m     \u001b[1;32mreturn\u001b[0m \u001b[0msf\u001b[0m\u001b[1;33m\u001b[0m\u001b[1;33m\u001b[0m\u001b[0m\n",
      "\u001b[1;32mC:\\ProgramData\\Anaconda3\\lib\\site-packages\\scipy\\optimize\\_differentiable_functions.py\u001b[0m in \u001b[0;36m__init__\u001b[1;34m(self, fun, x0, args, grad, hess, finite_diff_rel_step, finite_diff_bounds, epsilon)\u001b[0m\n\u001b[0;32m     44\u001b[0m                              \"quasi-Newton strategies.\")\n\u001b[0;32m     45\u001b[0m \u001b[1;33m\u001b[0m\u001b[0m\n\u001b[1;32m---> 46\u001b[1;33m         \u001b[0mself\u001b[0m\u001b[1;33m.\u001b[0m\u001b[0mx\u001b[0m \u001b[1;33m=\u001b[0m \u001b[0mnp\u001b[0m\u001b[1;33m.\u001b[0m\u001b[0matleast_1d\u001b[0m\u001b[1;33m(\u001b[0m\u001b[0mx0\u001b[0m\u001b[1;33m)\u001b[0m\u001b[1;33m.\u001b[0m\u001b[0mastype\u001b[0m\u001b[1;33m(\u001b[0m\u001b[0mfloat\u001b[0m\u001b[1;33m)\u001b[0m\u001b[1;33m\u001b[0m\u001b[1;33m\u001b[0m\u001b[0m\n\u001b[0m\u001b[0;32m     47\u001b[0m         \u001b[0mself\u001b[0m\u001b[1;33m.\u001b[0m\u001b[0mn\u001b[0m \u001b[1;33m=\u001b[0m \u001b[0mself\u001b[0m\u001b[1;33m.\u001b[0m\u001b[0mx\u001b[0m\u001b[1;33m.\u001b[0m\u001b[0msize\u001b[0m\u001b[1;33m\u001b[0m\u001b[1;33m\u001b[0m\u001b[0m\n\u001b[0;32m     48\u001b[0m         \u001b[0mself\u001b[0m\u001b[1;33m.\u001b[0m\u001b[0mnfev\u001b[0m \u001b[1;33m=\u001b[0m \u001b[1;36m0\u001b[0m\u001b[1;33m\u001b[0m\u001b[1;33m\u001b[0m\u001b[0m\n",
      "\u001b[1;31mValueError\u001b[0m: setting an array element with a sequence."
     ]
    }
   ],
   "source": [
    "for model in new_df.index:\n",
    "    temp = new_df.loc[model].values[0:]\n",
    "    init_param = temp[pd.notna(temp)]\n",
    "    Gmm = gmm(model=model, endog=diff_r, exog=r, instrument=None,\n",
    "              k_moms=4, k_params=len(init_param))\n",
    "    res = Gmm.fit(init_param, maxiter=2)"
   ]
  }
 ],
 "metadata": {
  "kernelspec": {
   "display_name": "Python 3",
   "language": "python",
   "name": "python3"
  },
  "language_info": {
   "codemirror_mode": {
    "name": "ipython",
    "version": 3
   },
   "file_extension": ".py",
   "mimetype": "text/x-python",
   "name": "python",
   "nbconvert_exporter": "python",
   "pygments_lexer": "ipython3",
   "version": "3.7.3"
  },
  "latex_envs": {
   "LaTeX_envs_menu_present": true,
   "autoclose": false,
   "autocomplete": true,
   "bibliofile": "biblio.bib",
   "cite_by": "apalike",
   "current_citInitial": 1,
   "eqLabelWithNumbers": true,
   "eqNumInitial": 1,
   "hotkeys": {
    "equation": "Ctrl-E",
    "itemize": "Ctrl-I"
   },
   "labels_anchors": false,
   "latex_user_defs": false,
   "report_style_numbering": false,
   "user_envs_cfg": false
  },
  "toc": {
   "base_numbering": 1,
   "nav_menu": {},
   "number_sections": true,
   "sideBar": true,
   "skip_h1_title": false,
   "title_cell": "Table of Contents",
   "title_sidebar": "Contents",
   "toc_cell": false,
   "toc_position": {},
   "toc_section_display": true,
   "toc_window_display": false
  },
  "varInspector": {
   "cols": {
    "lenName": 16,
    "lenType": 16,
    "lenVar": 40
   },
   "kernels_config": {
    "python": {
     "delete_cmd_postfix": "",
     "delete_cmd_prefix": "del ",
     "library": "var_list.py",
     "varRefreshCmd": "print(var_dic_list())"
    },
    "r": {
     "delete_cmd_postfix": ") ",
     "delete_cmd_prefix": "rm(",
     "library": "var_list.r",
     "varRefreshCmd": "cat(var_dic_list()) "
    }
   },
   "types_to_exclude": [
    "module",
    "function",
    "builtin_function_or_method",
    "instance",
    "_Feature"
   ],
   "window_display": false
  }
 },
 "nbformat": 4,
 "nbformat_minor": 4
}
