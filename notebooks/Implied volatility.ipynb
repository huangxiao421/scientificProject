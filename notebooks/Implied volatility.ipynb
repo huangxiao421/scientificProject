{
 "cells": [
  {
   "cell_type": "code",
   "execution_count": 7,
   "metadata": {},
   "outputs": [],
   "source": [
    "from scipy import stats\n",
    "import numpy as np\n",
    " \n",
    " \n",
    "def blsprice(price, strike, rate, time, volatility):#price标的资产市场价格，strike执行价格，rate无风险利率\n",
    "#     time距离到期时间，volatility标的资产价格波动率，call：call option（看涨期权）价格，put：put option（看跌期权）价格\n",
    "    price, strike, rate, time, volatility = float(price), float(strike), float(rate), float(time), float(volatility)\n",
    "    d1 = (np.log(price / strike) + (rate + 0.5 * volatility ** 2) * time) / (volatility * np.sqrt(time))\n",
    "    d2 = d1 - volatility * np.sqrt(time)\n",
    "    \n",
    "    call = price * stats.norm.cdf(d1, 0.0, 1.0) - strike * np.exp(-rate * time) * stats.norm.cdf(d2, 0.0, 1.0)\n",
    "    put = strike * np.exp(-rate * time) * stats.norm.cdf(-d2, 0.0, 1.0) - price * stats.norm.cdf(-d1, 0.0, 1.0) \n",
    "    \n",
    "    return call, put"
   ]
  },
  {
   "cell_type": "code",
   "execution_count": 8,
   "metadata": {},
   "outputs": [],
   "source": [
    "call,put = blsprice(10, 12, 0.05, 2, 0.5)"
   ]
  },
  {
   "cell_type": "code",
   "execution_count": 9,
   "metadata": {},
   "outputs": [
    {
     "name": "stdout",
     "output_type": "stream",
     "text": [
      "2.4714852069921562 3.3295342234236704\n"
     ]
    }
   ],
   "source": [
    "print(call,put)"
   ]
  },
  {
   "cell_type": "code",
   "execution_count": 10,
   "metadata": {},
   "outputs": [],
   "source": [
    "def ImpliedVolatitityCallObj(call, Price, Strike, Rate, Time, volatility_est=0.1):\n",
    "#volatility_est预期的标的资产价格波动率\n",
    "    def difference(volatility_est, Price, Strike, Rate, Time):\n",
    "        # 根据参数,使用blsprice计算期权价格\n",
    "        est_call = blsprice(Price, Strike, Rate, Time, volatility_est)[0]\n",
    "        return est_call - call\n",
    "    # 存在一个波动率使得下列等式成立\n",
    "    iv = fsolve(difference, volatility_est, args=(Price, Strike, Rate, Time))[0]\n",
    "    \n",
    "    return iv #iv隐含波动率\n"
   ]
  },
  {
   "cell_type": "code",
   "execution_count": 11,
   "metadata": {},
   "outputs": [],
   "source": [
    "def ImpliedVolatitityPutObj(put, Price, Strike, Rate, Time, volatility_est=0.1):\n",
    "    def difference(volatility_est, Price, Strike, Rate, Time):\n",
    "        # 根据参数,使用blsprice计算期权价格\n",
    "        est_put = blsprice(Price, Strike, Rate, Time, volatility_est)[1]\n",
    "        return est_put - put\n",
    "    # 存在一个波动率使得下列等式成立\n",
    "    iv = fsolve(difference, volatility_est, args=(Price, Strike, Rate, Time))[0]\n",
    "    \n",
    "    return iv"
   ]
  },
  {
   "cell_type": "code",
   "execution_count": 12,
   "metadata": {},
   "outputs": [
    {
     "name": "stdout",
     "output_type": "stream",
     "text": [
      "Implied Volatitity of Call = 0.3999943393836211\n"
     ]
    }
   ],
   "source": [
    "# 函数求解\n",
    "from scipy.optimize import fsolve\n",
    " \n",
    "Price =10\n",
    "Strike = 12\n",
    "Rate = 0.05\n",
    "Time = 2\n",
    "Cm = 1.9174\n",
    "print ('Implied Volatitity of Call =', ImpliedVolatitityCallObj(Cm, Price, Strike, Rate, Time))\n",
    "#print( 'Implied Volatitity of Put =', ImpliedVolatitityPutObj(Pm, Price, Strike, Rate, Time))"
   ]
  }
 ],
 "metadata": {
  "kernelspec": {
   "display_name": "Python 3",
   "language": "python",
   "name": "python3"
  },
  "language_info": {
   "codemirror_mode": {
    "name": "ipython",
    "version": 3
   },
   "file_extension": ".py",
   "mimetype": "text/x-python",
   "name": "python",
   "nbconvert_exporter": "python",
   "pygments_lexer": "ipython3",
   "version": "3.7.3"
  },
  "latex_envs": {
   "LaTeX_envs_menu_present": true,
   "autoclose": false,
   "autocomplete": true,
   "bibliofile": "biblio.bib",
   "cite_by": "apalike",
   "current_citInitial": 1,
   "eqLabelWithNumbers": true,
   "eqNumInitial": 1,
   "hotkeys": {
    "equation": "Ctrl-E",
    "itemize": "Ctrl-I"
   },
   "labels_anchors": false,
   "latex_user_defs": false,
   "report_style_numbering": false,
   "user_envs_cfg": false
  },
  "toc": {
   "base_numbering": 1,
   "nav_menu": {},
   "number_sections": true,
   "sideBar": true,
   "skip_h1_title": false,
   "title_cell": "Table of Contents",
   "title_sidebar": "Contents",
   "toc_cell": false,
   "toc_position": {},
   "toc_section_display": true,
   "toc_window_display": false
  },
  "varInspector": {
   "cols": {
    "lenName": 16,
    "lenType": 16,
    "lenVar": 40
   },
   "kernels_config": {
    "python": {
     "delete_cmd_postfix": "",
     "delete_cmd_prefix": "del ",
     "library": "var_list.py",
     "varRefreshCmd": "print(var_dic_list())"
    },
    "r": {
     "delete_cmd_postfix": ") ",
     "delete_cmd_prefix": "rm(",
     "library": "var_list.r",
     "varRefreshCmd": "cat(var_dic_list()) "
    }
   },
   "types_to_exclude": [
    "module",
    "function",
    "builtin_function_or_method",
    "instance",
    "_Feature"
   ],
   "window_display": false
  }
 },
 "nbformat": 4,
 "nbformat_minor": 4
}
